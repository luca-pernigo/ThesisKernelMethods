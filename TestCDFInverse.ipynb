{
 "cells": [
  {
   "cell_type": "code",
   "execution_count": 37,
   "metadata": {},
   "outputs": [
    {
     "name": "stdout",
     "output_type": "stream",
     "text": [
      "The autoreload extension is already loaded. To reload it, use:\n",
      "  %reload_ext autoreload\n"
     ]
    }
   ],
   "source": [
    "%load_ext autoreload\n",
    "%autoreload 2\n",
    "\n",
    "import pandas as pd\n",
    "import numpy as np\n",
    "\n",
    "import sys\n",
    "import os\n",
    "from src.kde import *\n",
    "from src.cdf import *\n",
    "from src.pinball_crps import *\n",
    "from src.poly_fit import *\n",
    "from src.spline import *\n",
    "from scipy import interpolate\n",
    "from src.miscellaneous import find\n",
    "from src.kernel_herding import *\n"
   ]
  },
  {
   "cell_type": "code",
   "execution_count": 38,
   "metadata": {},
   "outputs": [],
   "source": [
    "xtrain = np.load(\"data/data_21_23.npy\")\n",
    "# data 2023 test data\n",
    "xtest=xtrain[365:,:]\n",
    "# data 2021 train data\n",
    "xtrain=xtrain[0:366,:]\n",
    "# m rows\n",
    "m=xtrain.shape[0]\n",
    "# n columns\n",
    "n=xtrain.shape[1]\n",
    "\n",
    "\n",
    "# select hour of interest\n",
    "n=8\n",
    "\n",
    "# reshape\n",
    "xtrain_n=xtrain[1:, n].reshape(1,m-1)\n",
    "xtest_n=xtest[1:, n]\n"
   ]
  },
  {
   "cell_type": "code",
   "execution_count": 39,
   "metadata": {},
   "outputs": [],
   "source": [
    "x=xtrain_n.reshape(xtrain_n.size,)\n",
    "x=np.sort(x)\n",
    "y=cdf_funct(x)\n"
   ]
  },
  {
   "cell_type": "code",
   "execution_count": 40,
   "metadata": {},
   "outputs": [],
   "source": [
    "x_sub, y_sub,fit_spl_rpol=spl_polyfit(x,y)\n",
    "\n",
    "# rational polynomial fit order 1\n",
    "# higher orders do not preserve properties of CDF\n",
    "fit_rpol=polyfit(y,beta_rat_polyfit(y, np.sort(x), order=1))\n",
    "\n",
    "# scipy inbuilt spline\n",
    "tck_sub = interpolate.splrep(y_sub,x_sub, s=0, k=3)\n",
    "fit_bspl_sub=interpolate.BSpline(*tck_sub)(y_sub)\n",
    "\n",
    "tck = interpolate.splrep(y,x, k=3)\n",
    "fit_bspl = interpolate.BSpline(*tck)(y)"
   ]
  },
  {
   "cell_type": "code",
   "execution_count": 82,
   "metadata": {},
   "outputs": [
    {
     "data": {
      "text/plain": [
       "<matplotlib.legend.Legend at 0x29ef79900>"
      ]
     },
     "execution_count": 82,
     "metadata": {},
     "output_type": "execute_result"
    },
    {
     "data": {
      "image/png": "[encoded data removed]",
      "text/plain": [
       "<Figure size 640x480 with 1 Axes>"
      ]
     },
     "metadata": {},
     "output_type": "display_data"
    }
   ],
   "source": [
    "plt.plot(y, np.sort(x), label=\"empirical cdf\")\n",
    "plt.plot(y, fit_rpol, label=\"rational polynomial of order 1\")\n",
    "# plt.plot(y_sub, fit_spl_rpol, label=\"rational polynomial spline\")\n",
    "\n",
    "\n",
    "# plt.plot(y, fit_bspl, label=\"cubic spline\")\n",
    "# plt.plot(y_sub, fit_bspl_sub, label=\"smoother cubic spline\")\n",
    "plt.legend()"
   ]
  },
  {
   "cell_type": "code",
   "execution_count": 42,
   "metadata": {},
   "outputs": [],
   "source": [
    "# simulate data\n",
    "np.random.seed(10)\n",
    "unif=np.random.uniform(0,1,xtrain_n.size)\n",
    "unif=np.sort(unif)\n",
    "\n",
    "sim_rpol=polyfit(unif,beta_rat_polyfit(y, np.sort(x), order=1))\n",
    "sim_spl_rpol=simulate_spl_polyfit(unif,y_sub, fit_spl_rpol)\n",
    "sim_bspl_sub=interpolate.BSpline(*tck_sub)(unif)\n",
    "\n",
    "np.save(\"data/simulations/sim_rpol.npy\",sim_rpol)\n",
    "np.save(\"data/simulations/sim_bspl_sub.npy\",sim_bspl_sub)\n",
    "np.save(\"data/simulations/sim_spl_rpol.npy\",sim_spl_rpol)\n"
   ]
  },
  {
   "cell_type": "code",
   "execution_count": 81,
   "metadata": {},
   "outputs": [
    {
     "name": "stdout",
     "output_type": "stream",
     "text": [
      "step.1 step.2 step.3 step.4 step.5 "
     ]
    },
    {
     "name": "stderr",
     "output_type": "stream",
     "text": [
      "/Users/luca/Desktop/SummerProjectInternship/ThesisKernelMethods/src/kernel_herding.py:55: OptimizeWarning: Unknown solver options: xtol\n",
      "  res = minimize(f,\n"
     ]
    },
    {
     "name": "stdout",
     "output_type": "stream",
     "text": [
      "step.6 step.7 step.8 step.9 step.10 step.11 step.12 step.13 step.14 step.15 step.16 step.17 step.18 step.19 step.20 step.21 step.22 step.23 step.24 step.25 step.26 step.27 step.28 step.29 step.30 step.31 step.32 step.33 step.34 step.35 step.36 step.37 step.38 step.39 step.40 step.41 step.42 step.43 step.44 step.45 step.46 step.47 step.48 step.49 step.50 step.51 step.52 step.53 step.54 step.55 step.56 step.57 step.58 step.59 step.60 step.61 step.62 step.63 step.64 step.65 step.66 step.67 step.68 step.69 step.70 step.71 step.72 step.73 step.74 step.75 step.76 step.77 step.78 step.79 step.80 step.81 step.82 step.83 step.84 step.85 step.86 step.87 step.88 step.89 step.90 step.91 step.92 step.93 step.94 step.95 step.96 step.97 step.98 step.99 step.100 step.101 step.102 step.103 step.104 step.105 step.106 step.107 step.108 step.109 step.110 step.111 step.112 step.113 step.114 step.115 step.116 step.117 step.118 step.119 step.120 step.121 step.122 step.123 step.124 step.125 step.126 step.127 step.128 step.129 step.130 step.131 step.132 step.133 step.134 step.135 step.136 step.137 step.138 step.139 step.140 step.141 step.142 step.143 step.144 step.145 step.146 step.147 step.148 step.149 step.150 step.151 step.152 step.153 step.154 step.155 step.156 step.157 step.158 step.159 step.160 step.161 step.162 step.163 step.164 step.165 step.166 step.167 step.168 step.169 step.170 step.171 step.172 step.173 step.174 step.175 step.176 step.177 step.178 step.179 step.180 step.181 step.182 step.183 step.184 step.185 step.186 step.187 step.188 step.189 step.190 step.191 step.192 step.193 step.194 step.195 step.196 step.197 step.198 step.199 step.200 step.201 step.202 step.203 step.204 step.205 step.206 step.207 step.208 step.209 step.210 step.211 step.212 step.213 step.214 step.215 step.216 step.217 step.218 step.219 step.220 step.221 step.222 step.223 step.224 step.225 step.226 step.227 step.228 step.229 step.230 step.231 step.232 step.233 step.234 step.235 step.236 step.237 step.238 step.239 step.240 step.241 step.242 step.243 step.244 step.245 step.246 step.247 step.248 step.249 step.250 step.251 step.252 step.253 step.254 step.255 step.256 step.257 step.258 step.259 step.260 step.261 step.262 step.263 step.264 step.265 step.266 step.267 step.268 step.269 step.270 step.271 step.272 step.273 step.274 step.275 step.276 step.277 step.278 step.279 step.280 step.281 step.282 step.283 step.284 step.285 step.286 step.287 step.288 step.289 step.290 step.291 step.292 step.293 step.294 step.295 step.296 step.297 step.298 step.299 step.300 step.301 step.302 step.303 step.304 step.305 step.306 step.307 step.308 step.309 step.310 step.311 step.312 step.313 step.314 step.315 step.316 step.317 step.318 step.319 step.320 step.321 step.322 step.323 step.324 step.325 step.326 step.327 step.328 step.329 step.330 step.331 step.332 step.333 step.334 step.335 step.336 step.337 step.338 step.339 step.340 step.341 step.342 step.343 step.344 step.345 step.346 step.347 step.348 step.349 step.350 step.351 step.352 step.353 step.354 step.355 step.356 step.357 step.358 step.359 step.360 step.361 step.362 step.363 step.364 "
     ]
    }
   ],
   "source": [
    "sim_kernel_herding=kernel_herding(xtrain_n.reshape(-1,1) ,xtrain_n.size,1)\n",
    "np.save(\"data/simulations/sim_kernel_herding.npy\",sim_kernel_herding)"
   ]
  },
  {
   "cell_type": "code",
   "execution_count": 8,
   "metadata": {},
   "outputs": [
    {
     "data": {
      "text/plain": [
       "506.23"
      ]
     },
     "execution_count": 8,
     "metadata": {},
     "output_type": "execute_result"
    }
   ],
   "source": [
    "# code to evaluate spline with Neville's algorithm\n",
    "spline_evaluate(1, tck)"
   ]
  }
 ],
 "metadata": {
  "kernelspec": {
   "display_name": "SummerCode",
   "language": "python",
   "name": "summercode"
  },
  "language_info": {
   "codemirror_mode": {
    "name": "ipython",
    "version": 3
   },
   "file_extension": ".py",
   "mimetype": "text/x-python",
   "name": "python",
   "nbconvert_exporter": "python",
   "pygments_lexer": "ipython3",
   "version": "3.10.7"
  }
 },
 "nbformat": 4,
 "nbformat_minor": 2
}
