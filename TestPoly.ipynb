{
 "cells": [
  {
   "cell_type": "code",
   "execution_count": 3,
   "metadata": {},
   "outputs": [
    {
     "name": "stdout",
     "output_type": "stream",
     "text": [
      "The autoreload extension is already loaded. To reload it, use:\n",
      "  %reload_ext autoreload\n"
     ]
    }
   ],
   "source": [
    "%load_ext autoreload\n",
    "%autoreload 2\n",
    "import numpy as np\n",
    "from src.cdf import *\n",
    "from src.poly_fit import *\n",
    "import matplotlib.pyplot as plt\n",
    "from src.bsm import *\n",
    "from scipy.optimize import leastsq\n",
    "from scipy.interpolate import CubicSpline\n",
    "from scipy.interpolate import splrep, BSpline"
   ]
  },
  {
   "cell_type": "markdown",
   "metadata": {},
   "source": [
    "Test for normally distributed data"
   ]
  },
  {
   "cell_type": "code",
   "execution_count": 9,
   "metadata": {},
   "outputs": [],
   "source": [
    "np.random.seed(10)\n",
    "x=np.random.normal(0,1,800)\n",
    "x=np.sort(x)\n",
    "y=cdf_funct(x)\n",
    "\n",
    "fit=polyfit(y,beta_rat_polyfit(y, x, order=3))\n",
    "\n",
    "_,y_sub,fit_spl_rpol=spl_polyfit(x,y)\n",
    "# popt, pcov = curve_fit(rational_2, y,x)\n",
    "popt, _ = curve_fit(rational_3, y,x, maxfev=1000)\n",
    "\n",
    "fit_gauss_newton=polyfit(y,GaussNewton(y,x,order=4))"
   ]
  },
  {
   "cell_type": "code",
   "execution_count": 10,
   "metadata": {},
   "outputs": [],
   "source": [
    "def rational(x, p, q):\n",
    "    return np.polyval(p, x) / ([1.0]+np.polyval(q, x))\n",
    "\n",
    "def rational_2(x, p0, p1, p2, q1, q2):\n",
    "    return rational(x, [p0, p1, p2], [q1, q2])\n",
    "\n",
    "\n",
    "def rational_3(x, p0, p1, p2,p3, q1, q2,q3):\n",
    "    return rational(x, [p0, p1, p2, p3], [q1, q2,q3])"
   ]
  },
  {
   "cell_type": "code",
   "execution_count": 11,
   "metadata": {},
   "outputs": [
    {
     "data": {
      "text/plain": [
       "array([-2.80142181e+00, -2.71636954e+00, -2.63851637e+00, -2.56695817e+00,\n",
       "       -2.50093610e+00, -2.43980857e+00, -2.38302945e+00, -2.33013096e+00,\n",
       "       -2.28071005e+00, -2.23441765e+00, -2.19094987e+00, -2.15004096e+00,\n",
       "       -2.11145748e+00, -2.07499355e+00, -2.04046689e+00, -2.00771554e+00,\n",
       "       -1.97659510e+00, -1.94697643e+00, -1.91874365e+00, -1.89179251e+00,\n",
       "       -1.86602896e+00, -1.84136793e+00, -1.81773230e+00, -1.79505195e+00,\n",
       "       -1.77326302e+00, -1.75230723e+00, -1.73213125e+00, -1.71268623e+00,\n",
       "       -1.69392729e+00, -1.67581316e+00, -1.65830582e+00, -1.64137018e+00,\n",
       "       -1.62497379e+00, -1.60908663e+00, -1.59368084e+00, -1.57873058e+00,\n",
       "       -1.56421182e+00, -1.55010218e+00, -1.53638081e+00, -1.52302825e+00,\n",
       "       -1.51002632e+00, -1.49735801e+00, -1.48500740e+00, -1.47295955e+00,\n",
       "       -1.46120047e+00, -1.44971698e+00, -1.43849673e+00, -1.42752808e+00,\n",
       "       -1.41680004e+00, -1.40630230e+00, -1.39602508e+00, -1.38595919e+00,\n",
       "       -1.37609590e+00, -1.36642700e+00, -1.35694468e+00, -1.34764155e+00,\n",
       "       -1.33851062e+00, -1.32954525e+00, -1.32073913e+00, -1.31208627e+00,\n",
       "       -1.30358098e+00, -1.29521784e+00, -1.28699171e+00, -1.27889767e+00,\n",
       "       -1.27093105e+00, -1.26308738e+00, -1.25536243e+00, -1.24775212e+00,\n",
       "       -1.24025257e+00, -1.23286009e+00, -1.22557113e+00, -1.21838231e+00,\n",
       "       -1.21129037e+00, -1.20429223e+00, -1.19738490e+00, -1.19056554e+00,\n",
       "       -1.18383141e+00, -1.17717990e+00, -1.17060848e+00, -1.16411476e+00,\n",
       "       -1.15769641e+00, -1.15135120e+00, -1.14507699e+00, -1.13887173e+00,\n",
       "       -1.13273344e+00, -1.12666021e+00, -1.12065021e+00, -1.11470167e+00,\n",
       "       -1.10881289e+00, -1.10298224e+00, -1.09720813e+00, -1.09148904e+00,\n",
       "       -1.08582351e+00, -1.08021010e+00, -1.07464747e+00, -1.06913427e+00,\n",
       "       -1.06366925e+00, -1.05825116e+00, -1.05287881e+00, -1.04755106e+00,\n",
       "       -1.04226679e+00, -1.03702491e+00, -1.03182440e+00, -1.02666424e+00,\n",
       "       -1.02154345e+00, -1.01646109e+00, -1.01141625e+00, -1.00640804e+00,\n",
       "       -1.00143559e+00, -9.96498077e-01, -9.91594693e-01, -9.86724653e-01,\n",
       "       -9.81887199e-01, -9.77081593e-01, -9.72307120e-01, -9.67563087e-01,\n",
       "       -9.62848819e-01, -9.58163661e-01, -9.53506980e-01, -9.48878156e-01,\n",
       "       -9.44276591e-01, -9.39701702e-01, -9.35152920e-01, -9.30629697e-01,\n",
       "       -9.26131495e-01, -9.21657794e-01, -9.17208087e-01, -9.12781880e-01,\n",
       "       -9.08378693e-01, -9.03998059e-01, -8.99639522e-01, -8.95302641e-01,\n",
       "       -8.90986982e-01, -8.86692127e-01, -8.82417665e-01, -8.78163198e-01,\n",
       "       -8.73928336e-01, -8.69712701e-01, -8.65515922e-01, -8.61337640e-01,\n",
       "       -8.57177503e-01, -8.53035169e-01, -8.48910302e-01, -8.44802576e-01,\n",
       "       -8.40711674e-01, -8.36637284e-01, -8.32579104e-01, -8.28536836e-01,\n",
       "       -8.24510191e-01, -8.20498888e-01, -8.16502650e-01, -8.12521208e-01,\n",
       "       -8.08554298e-01, -8.04601664e-01, -8.00663054e-01, -7.96738222e-01,\n",
       "       -7.92826927e-01, -7.88928936e-01, -7.85044018e-01, -7.81171949e-01,\n",
       "       -7.77312509e-01, -7.73465483e-01, -7.69630662e-01, -7.65807839e-01,\n",
       "       -7.61996813e-01, -7.58197387e-01, -7.54409369e-01, -7.50632569e-01,\n",
       "       -7.46866803e-01, -7.43111890e-01, -7.39367653e-01, -7.35633919e-01,\n",
       "       -7.31910517e-01, -7.28197280e-01, -7.24494047e-01, -7.20800656e-01,\n",
       "       -7.17116952e-01, -7.13442780e-01, -7.09777991e-01, -7.06122437e-01,\n",
       "       -7.02475973e-01, -6.98838457e-01, -6.95209751e-01, -6.91589719e-01,\n",
       "       -6.87978226e-01, -6.84375141e-01, -6.80780336e-01, -6.77193685e-01,\n",
       "       -6.73615063e-01, -6.70044349e-01, -6.66481425e-01, -6.62926172e-01,\n",
       "       -6.59378476e-01, -6.55838224e-01, -6.52305306e-01, -6.48779613e-01,\n",
       "       -6.45261037e-01, -6.41749475e-01, -6.38244822e-01, -6.34746979e-01,\n",
       "       -6.31255845e-01, -6.27771324e-01, -6.24293318e-01, -6.20821734e-01,\n",
       "       -6.17356480e-01, -6.13897464e-01, -6.10444597e-01, -6.06997791e-01,\n",
       "       -6.03556959e-01, -6.00122017e-01, -5.96692880e-01, -5.93269468e-01,\n",
       "       -5.89851699e-01, -5.86439493e-01, -5.83032773e-01, -5.79631461e-01,\n",
       "       -5.76235482e-01, -5.72844762e-01, -5.69459228e-01, -5.66078807e-01,\n",
       "       -5.62703428e-01, -5.59333022e-01, -5.55967521e-01, -5.52606856e-01,\n",
       "       -5.49250961e-01, -5.45899770e-01, -5.42553220e-01, -5.39211247e-01,\n",
       "       -5.35873788e-01, -5.32540781e-01, -5.29212167e-01, -5.25887885e-01,\n",
       "       -5.22567877e-01, -5.19252084e-01, -5.15940450e-01, -5.12632918e-01,\n",
       "       -5.09329433e-01, -5.06029940e-01, -5.02734386e-01, -4.99442717e-01,\n",
       "       -4.96154882e-01, -4.92870828e-01, -4.89590505e-01, -4.86313864e-01,\n",
       "       -4.83040853e-01, -4.79771426e-01, -4.76505533e-01, -4.73243128e-01,\n",
       "       -4.69984164e-01, -4.66728594e-01, -4.63476374e-01, -4.60227458e-01,\n",
       "       -4.56981803e-01, -4.53739364e-01, -4.50500100e-01, -4.47263966e-01,\n",
       "       -4.44030922e-01, -4.40800925e-01, -4.37573936e-01, -4.34349914e-01,\n",
       "       -4.31128818e-01, -4.27910611e-01, -4.24695253e-01, -4.21482705e-01,\n",
       "       -4.18272930e-01, -4.15065891e-01, -4.11861550e-01, -4.08659872e-01,\n",
       "       -4.05460820e-01, -4.02264359e-01, -3.99070454e-01, -3.95879069e-01,\n",
       "       -3.92690172e-01, -3.89503727e-01, -3.86319701e-01, -3.83138062e-01,\n",
       "       -3.79958776e-01, -3.76781812e-01, -3.73607137e-01, -3.70434719e-01,\n",
       "       -3.67264529e-01, -3.64096533e-01, -3.60930703e-01, -3.57767008e-01,\n",
       "       -3.54605417e-01, -3.51445902e-01, -3.48288433e-01, -3.45132982e-01,\n",
       "       -3.41979519e-01, -3.38828017e-01, -3.35678446e-01, -3.32530781e-01,\n",
       "       -3.29384993e-01, -3.26241055e-01, -3.23098940e-01, -3.19958622e-01,\n",
       "       -3.16820074e-01, -3.13683270e-01, -3.10548185e-01, -3.07414792e-01,\n",
       "       -3.04283067e-01, -3.01152984e-01, -2.98024519e-01, -2.94897647e-01,\n",
       "       -2.91772343e-01, -2.88648584e-01, -2.85526345e-01, -2.82405603e-01,\n",
       "       -2.79286334e-01, -2.76168516e-01, -2.73052124e-01, -2.69937136e-01,\n",
       "       -2.66823530e-01, -2.63711282e-01, -2.60600371e-01, -2.57490774e-01,\n",
       "       -2.54382470e-01, -2.51275436e-01, -2.48169652e-01, -2.45065095e-01,\n",
       "       -2.41961744e-01, -2.38859579e-01, -2.35758579e-01, -2.32658722e-01,\n",
       "       -2.29559988e-01, -2.26462357e-01, -2.23365809e-01, -2.20270322e-01,\n",
       "       -2.17175878e-01, -2.14082456e-01, -2.10990037e-01, -2.07898601e-01,\n",
       "       -2.04808129e-01, -2.01718601e-01, -1.98629998e-01, -1.95542301e-01,\n",
       "       -1.92455491e-01, -1.89369549e-01, -1.86284457e-01, -1.83200195e-01,\n",
       "       -1.80116746e-01, -1.77034092e-01, -1.73952213e-01, -1.70871091e-01,\n",
       "       -1.67790709e-01, -1.64711049e-01, -1.61632092e-01, -1.58553821e-01,\n",
       "       -1.55476219e-01, -1.52399267e-01, -1.49322948e-01, -1.46247245e-01,\n",
       "       -1.43172140e-01, -1.40097617e-01, -1.37023657e-01, -1.33950244e-01,\n",
       "       -1.30877361e-01, -1.27804990e-01, -1.24733116e-01, -1.21661721e-01,\n",
       "       -1.18590788e-01, -1.15520300e-01, -1.12450242e-01, -1.09380596e-01,\n",
       "       -1.06311346e-01, -1.03242476e-01, -1.00173968e-01, -9.71058075e-02,\n",
       "       -9.40379773e-02, -9.09704612e-02, -8.79032431e-02, -8.48363068e-02,\n",
       "       -8.17696362e-02, -7.87032152e-02, -7.56370278e-02, -7.25710579e-02,\n",
       "       -6.95052895e-02, -6.64397069e-02, -6.33742939e-02, -6.03090349e-02,\n",
       "       -5.72439138e-02, -5.41789150e-02, -5.11140225e-02, -4.80492206e-02,\n",
       "       -4.49844936e-02, -4.19198257e-02, -3.88552012e-02, -3.57906043e-02,\n",
       "       -3.27260195e-02, -2.96614309e-02, -2.65968230e-02, -2.35321800e-02,\n",
       "       -2.04674864e-02, -1.74027263e-02, -1.43378843e-02, -1.12729446e-02,\n",
       "       -8.20789153e-03, -5.14270952e-03, -2.07738287e-03,  9.88104081e-04,\n",
       "        4.05376702e-03,  7.11962162e-03,  1.01856836e-02,  1.32519686e-02,\n",
       "        1.63184925e-02,  1.93852708e-02,  2.24523195e-02,  2.55196543e-02,\n",
       "        2.85872909e-02,  3.16552453e-02,  3.47235332e-02,  3.77921706e-02,\n",
       "        4.08611733e-02,  4.39305573e-02,  4.70003386e-02,  5.00705332e-02,\n",
       "        5.31411570e-02,  5.62122263e-02,  5.92837571e-02,  6.23557655e-02,\n",
       "        6.54282679e-02,  6.85012804e-02,  7.15748193e-02,  7.46489010e-02,\n",
       "        7.77235420e-02,  8.07987586e-02,  8.38745673e-02,  8.69509848e-02,\n",
       "        9.00280276e-02,  9.31057124e-02,  9.61840561e-02,  9.92630753e-02,\n",
       "        1.02342787e-01,  1.05423208e-01,  1.08504356e-01,  1.11586247e-01,\n",
       "        1.14668899e-01,  1.17752329e-01,  1.20836554e-01,  1.23921592e-01,\n",
       "        1.27007459e-01,  1.30094175e-01,  1.33181756e-01,  1.36270221e-01,\n",
       "        1.39359586e-01,  1.42449870e-01,  1.45541091e-01,  1.48633267e-01,\n",
       "        1.51726417e-01,  1.54820558e-01,  1.57915710e-01,  1.61011890e-01,\n",
       "        1.64109117e-01,  1.67207411e-01,  1.70306790e-01,  1.73407272e-01,\n",
       "        1.76508878e-01,  1.79611626e-01,  1.82715536e-01,  1.85820627e-01,\n",
       "        1.88926919e-01,  1.92034431e-01,  1.95143185e-01,  1.98253199e-01,\n",
       "        2.01364493e-01,  2.04477089e-01,  2.07591006e-01,  2.10706266e-01,\n",
       "        2.13822889e-01,  2.16940895e-01,  2.20060307e-01,  2.23181145e-01,\n",
       "        2.26303430e-01,  2.29427185e-01,  2.32552431e-01,  2.35679190e-01,\n",
       "        2.38807484e-01,  2.41937335e-01,  2.45068767e-01,  2.48201801e-01,\n",
       "        2.51336460e-01,  2.54472768e-01,  2.57610747e-01,  2.60750422e-01,\n",
       "        2.63891815e-01,  2.67034951e-01,  2.70179854e-01,  2.73326548e-01,\n",
       "        2.76475057e-01,  2.79625407e-01,  2.82777622e-01,  2.85931727e-01,\n",
       "        2.89087749e-01,  2.92245712e-01,  2.95405642e-01,  2.98567566e-01,\n",
       "        3.01731511e-01,  3.04897502e-01,  3.08065567e-01,  3.11235733e-01,\n",
       "        3.14408027e-01,  3.17582478e-01,  3.20759113e-01,  3.23937960e-01,\n",
       "        3.27119049e-01,  3.30302408e-01,  3.33488067e-01,  3.36676055e-01,\n",
       "        3.39866401e-01,  3.43059136e-01,  3.46254291e-01,  3.49451896e-01,\n",
       "        3.52651983e-01,  3.55854583e-01,  3.59059727e-01,  3.62267449e-01,\n",
       "        3.65477780e-01,  3.68690754e-01,  3.71906404e-01,  3.75124763e-01,\n",
       "        3.78345866e-01,  3.81569748e-01,  3.84796442e-01,  3.88025984e-01,\n",
       "        3.91258411e-01,  3.94493757e-01,  3.97732060e-01,  4.00973357e-01,\n",
       "        4.04217685e-01,  4.07465082e-01,  4.10715586e-01,  4.13969237e-01,\n",
       "        4.17226073e-01,  4.20486134e-01,  4.23749460e-01,  4.27016093e-01,\n",
       "        4.30286073e-01,  4.33559443e-01,  4.36836245e-01,  4.40116521e-01,\n",
       "        4.43400315e-01,  4.46687672e-01,  4.49978635e-01,  4.53273250e-01,\n",
       "        4.56571563e-01,  4.59873620e-01,  4.63179468e-01,  4.66489155e-01,\n",
       "        4.69802729e-01,  4.73120239e-01,  4.76441734e-01,  4.79767265e-01,\n",
       "        4.83096883e-01,  4.86430639e-01,  4.89768586e-01,  4.93110777e-01,\n",
       "        4.96457265e-01,  4.99808106e-01,  5.03163354e-01,  5.06523067e-01,\n",
       "        5.09887300e-01,  5.13256112e-01,  5.16629561e-01,  5.20007708e-01,\n",
       "        5.23390611e-01,  5.26778333e-01,  5.30170935e-01,  5.33568481e-01,\n",
       "        5.36971034e-01,  5.40378660e-01,  5.43791425e-01,  5.47209395e-01,\n",
       "        5.50632639e-01,  5.54061225e-01,  5.57495223e-01,  5.60934705e-01,\n",
       "        5.64379744e-01,  5.67830411e-01,  5.71286782e-01,  5.74748932e-01,\n",
       "        5.78216939e-01,  5.81690880e-01,  5.85170835e-01,  5.88656885e-01,\n",
       "        5.92149110e-01,  5.95647595e-01,  5.99152425e-01,  6.02663684e-01,\n",
       "        6.06181461e-01,  6.09705845e-01,  6.13236925e-01,  6.16774793e-01,\n",
       "        6.20319544e-01,  6.23871271e-01,  6.27430072e-01,  6.30996044e-01,\n",
       "        6.34569287e-01,  6.38149904e-01,  6.41737997e-01,  6.45333671e-01,\n",
       "        6.48937034e-01,  6.52548194e-01,  6.56167262e-01,  6.59794351e-01,\n",
       "        6.63429575e-01,  6.67073051e-01,  6.70724898e-01,  6.74385238e-01,\n",
       "        6.78054192e-01,  6.81731888e-01,  6.85418452e-01,  6.89114014e-01,\n",
       "        6.92818708e-01,  6.96532667e-01,  7.00256031e-01,  7.03988938e-01,\n",
       "        7.07731531e-01,  7.11483957e-01,  7.15246362e-01,  7.19018899e-01,\n",
       "        7.22801721e-01,  7.26594986e-01,  7.30398852e-01,  7.34213485e-01,\n",
       "        7.38039049e-01,  7.41875714e-01,  7.45723655e-01,  7.49583046e-01,\n",
       "        7.53454069e-01,  7.57336907e-01,  7.61231748e-01,  7.65138782e-01,\n",
       "        7.69058206e-01,  7.72990218e-01,  7.76935022e-01,  7.80892826e-01,\n",
       "        7.84863841e-01,  7.88848285e-01,  7.92846378e-01,  7.96858346e-01,\n",
       "        8.00884420e-01,  8.04924836e-01,  8.08979835e-01,  8.13049662e-01,\n",
       "        8.17134570e-01,  8.21234815e-01,  8.25350659e-01,  8.29482373e-01,\n",
       "        8.33630231e-01,  8.37794513e-01,  8.41975506e-01,  8.46173506e-01,\n",
       "        8.50388812e-01,  8.54621732e-01,  8.58872582e-01,  8.63141683e-01,\n",
       "        8.67429365e-01,  8.71735965e-01,  8.76061831e-01,  8.80407315e-01,\n",
       "        8.84772780e-01,  8.89158598e-01,  8.93565149e-01,  8.97992823e-01,\n",
       "        9.02442020e-01,  9.06913149e-01,  9.11406630e-01,  9.15922894e-01,\n",
       "        9.20462382e-01,  9.25025546e-01,  9.29612851e-01,  9.34224774e-01,\n",
       "        9.38861803e-01,  9.43524440e-01,  9.48213200e-01,  9.52928611e-01,\n",
       "        9.57671217e-01,  9.62441575e-01,  9.67240257e-01,  9.72067853e-01,\n",
       "        9.76924967e-01,  9.81812219e-01,  9.86730250e-01,  9.91679715e-01,\n",
       "        9.96661290e-01,  1.00167567e+00,  1.00672357e+00,  1.01180572e+00,\n",
       "        1.01692289e+00,  1.02207585e+00,  1.02726540e+00,  1.03249237e+00,\n",
       "        1.03775761e+00,  1.04306199e+00,  1.04840643e+00,  1.05379185e+00,\n",
       "        1.05921921e+00,  1.06468951e+00,  1.07020376e+00,  1.07576301e+00,\n",
       "        1.08136837e+00,  1.08702094e+00,  1.09272189e+00,  1.09847242e+00,\n",
       "        1.10427376e+00,  1.11012720e+00,  1.11603404e+00,  1.12199567e+00,\n",
       "        1.12801349e+00,  1.13408896e+00,  1.14022360e+00,  1.14641897e+00,\n",
       "        1.15267670e+00,  1.15899846e+00,  1.16538600e+00,  1.17184111e+00,\n",
       "        1.17836567e+00,  1.18496161e+00,  1.19163095e+00,  1.19837578e+00,\n",
       "        1.20519825e+00,  1.21210063e+00,  1.21908525e+00,  1.22615455e+00,\n",
       "        1.23331104e+00,  1.24055735e+00,  1.24789623e+00,  1.25533051e+00,\n",
       "        1.26286316e+00,  1.27049727e+00,  1.27823605e+00,  1.28608286e+00,\n",
       "        1.29404120e+00,  1.30211472e+00,  1.31030724e+00,  1.31862273e+00,\n",
       "        1.32706535e+00,  1.33563947e+00,  1.34434963e+00,  1.35320059e+00,\n",
       "        1.36219735e+00,  1.37134513e+00,  1.38064941e+00,  1.39011594e+00,\n",
       "        1.39975075e+00,  1.40956017e+00,  1.41955087e+00,  1.42972984e+00,\n",
       "        1.44010445e+00,  1.45068244e+00,  1.46147198e+00,  1.47248168e+00,\n",
       "        1.48372062e+00,  1.49519840e+00,  1.50692513e+00,  1.51891154e+00,\n",
       "        1.53116895e+00,  1.54370936e+00,  1.55654550e+00,  1.56969086e+00,\n",
       "        1.58315977e+00,  1.59696745e+00,  1.61113010e+00,  1.62566496e+00,\n",
       "        1.64059042e+00,  1.65592608e+00,  1.67169288e+00,  1.68791321e+00,\n",
       "        1.70461105e+00,  1.72181209e+00,  1.73954388e+00,  1.75783605e+00,\n",
       "        1.77672044e+00,  1.79623139e+00,  1.81640590e+00,  1.83728399e+00,\n",
       "        1.85890892e+00,  1.88132759e+00,  1.90459091e+00,  1.92875424e+00,\n",
       "        1.95387787e+00,  1.98002762e+00,  2.00727545e+00,  2.03570021e+00,\n",
       "        2.06538847e+00,  2.09643554e+00,  2.12894652e+00,  2.16303767e+00,\n",
       "        2.19883786e+00,  2.23649039e+00,  2.27615502e+00,  2.31801046e+00,\n",
       "        2.36225717e+00,  2.40912089e+00,  2.45885666e+00,  2.51175378e+00,\n",
       "        2.56814176e+00,  2.62839753e+00,  2.69295434e+00,  2.76231263e+00])"
      ]
     },
     "execution_count": 11,
     "metadata": {},
     "output_type": "execute_result"
    }
   ],
   "source": [
    "rational_3(y, *popt)"
   ]
  },
  {
   "cell_type": "code",
   "execution_count": 25,
   "metadata": {},
   "outputs": [
    {
     "data": {
      "text/plain": [
       "[<matplotlib.lines.Line2D at 0x298097bb0>]"
      ]
     },
     "execution_count": 25,
     "metadata": {},
     "output_type": "execute_result"
    },
    {
     "data": {
      "image/png": "[encoded data removed]",
      "text/plain": [
       "<Figure size 640x480 with 1 Axes>"
      ]
     },
     "metadata": {},
     "output_type": "display_data"
    }
   ],
   "source": [
    "tck = splrep(y, x, s=1)\n",
    "plt.plot(y, BSpline(*tck)(y))\n",
    "# plt.plot(y,x)"
   ]
  },
  {
   "cell_type": "code",
   "execution_count": null,
   "metadata": {},
   "outputs": [],
   "source": []
  },
  {
   "cell_type": "code",
   "execution_count": null,
   "metadata": {},
   "outputs": [],
   "source": []
  },
  {
   "cell_type": "code",
   "execution_count": null,
   "metadata": {},
   "outputs": [],
   "source": []
  },
  {
   "cell_type": "code",
   "execution_count": 17,
   "metadata": {},
   "outputs": [
    {
     "data": {
      "text/plain": [
       "(array([-96.14287187, 145.55398031, -41.67261529,  -3.50162815,\n",
       "        -46.31892755,  46.6027916 ,   0.24994677]),\n",
       " array([[ 6.87323664e+11, -1.04056268e+12,  2.97916546e+11,\n",
       "          2.50331511e+10,  3.31133608e+11, -3.33162951e+11,\n",
       "         -8.93585783e+09],\n",
       "        [-1.04056268e+12,  1.57534323e+12, -4.51025993e+11,\n",
       "         -3.78985390e+10, -5.01314432e+11,  5.04386724e+11,\n",
       "          1.35282991e+10],\n",
       "        [ 2.97916546e+11, -4.51025993e+11,  1.29130238e+11,\n",
       "          1.08504774e+10,  1.43527985e+11, -1.44407592e+11,\n",
       "         -3.87319692e+09],\n",
       "        [ 2.50331511e+10, -3.78985390e+10,  1.08504774e+10,\n",
       "          9.11737347e+08,  1.20602826e+10, -1.21341937e+10,\n",
       "         -3.25454645e+08],\n",
       "        [ 3.31133608e+11, -5.01314432e+11,  1.43527985e+11,\n",
       "          1.20602826e+10,  1.59531050e+11, -1.60508732e+11,\n",
       "         -4.30505014e+09],\n",
       "        [-3.33162951e+11,  5.04386724e+11, -1.44407592e+11,\n",
       "         -1.21341937e+10, -1.60508732e+11,  1.61492405e+11,\n",
       "          4.33143352e+09],\n",
       "        [-8.93585783e+09,  1.35282991e+10, -3.87319692e+09,\n",
       "         -3.25454645e+08, -4.30505014e+09,  4.33143352e+09,\n",
       "          1.16174605e+08]]))"
      ]
     },
     "execution_count": 17,
     "metadata": {},
     "output_type": "execute_result"
    }
   ],
   "source": [
    "popt, _ = curve_fit(rational_3, y,x)\n",
    "curve_fit(rational_3, y,x)"
   ]
  },
  {
   "cell_type": "code",
   "execution_count": 18,
   "metadata": {},
   "outputs": [
    {
     "data": {
      "text/plain": [
       "<matplotlib.legend.Legend at 0x1479bf6a0>"
      ]
     },
     "execution_count": 18,
     "metadata": {},
     "output_type": "execute_result"
    },
    {
     "data": {
      "image/png": "[encoded data removed]",
      "text/plain": [
       "<Figure size 640x480 with 1 Axes>"
      ]
     },
     "metadata": {},
     "output_type": "display_data"
    }
   ],
   "source": [
    "plt.plot(y, np.sort(x), label=\"empirical cdf\")\n",
    "# plt.plot(y, fit, label=\"poly fit\")\n",
    "# plt.plot(y_sub, fit_spl_rpol, label=\"spline rat polynomial\")\n",
    "# plt.plot(y, inverse_normal_cdf(y), label=\"bsm algorithm\")\n",
    "plt.plot(y, rational_3(y, *popt), label='LM rational polynomial')\n",
    "\n",
    "# plt.plot(y, fit_gauss_newton, label=\"gauss netweon\")\n",
    "\n",
    "plt.xlabel(\"y\")\n",
    "plt.ylabel(\"x\")\n",
    "plt.title(\"Inverse CDF\")\n",
    "plt.legend()\n"
   ]
  },
  {
   "cell_type": "code",
   "execution_count": 11,
   "metadata": {},
   "outputs": [
    {
     "data": {
      "text/plain": [
       "<matplotlib.legend.Legend at 0x168ac1bd0>"
      ]
     },
     "execution_count": 11,
     "metadata": {},
     "output_type": "execute_result"
    },
    {
     "data": {
      "image/png": "[encoded data removed]",
      "text/plain": [
       "<Figure size 640x480 with 1 Axes>"
      ]
     },
     "metadata": {},
     "output_type": "display_data"
    }
   ],
   "source": [
    "plt.hist(np.random.normal(0,1,10000), bins=20, label=\"original\", density=True, alpha=0.4);\n",
    "\n",
    "plt.hist(rational_3(np.random.uniform(0,1,10000), *popt), bins=20, label=\"inverse transform\", density=True, alpha=0.4);\n",
    "\n",
    "plt.legend()"
   ]
  },
  {
   "cell_type": "code",
   "execution_count": null,
   "metadata": {},
   "outputs": [],
   "source": []
  },
  {
   "cell_type": "code",
   "execution_count": null,
   "metadata": {},
   "outputs": [],
   "source": []
  },
  {
   "cell_type": "code",
   "execution_count": 7,
   "metadata": {},
   "outputs": [],
   "source": [
    "# # checking correctness with example at https://www.originlab.com/doc/Tutorials/RationalFunc-InitialParameter\n",
    "# daat=[-1.5,\t1.13173,\n",
    "# -1.39474,\t0.8262,\n",
    "# -1.28947,\t1.06999,\n",
    "# -1.18421,\t1.37155,\n",
    "# -1.07895,\t0.79569,\n",
    "# -0.97368,\t2.11346,\n",
    "# -0.86842,\t2.32006,\n",
    "# -0.76316,\t3.9205,\n",
    "# -0.65789,\t5.81904,\n",
    "# -0.55263,\t7.38037,\n",
    "# -0.44737,\t8.31272,\n",
    "# -0.34211,\t11.39718,\n",
    "# -0.23684,\t8.39808,\n",
    "# -0.13158,\t4.7305,\n",
    "# -0.02632,\t4.11105,\n",
    "# 0.07895,\t2.39105,\n",
    "# 0.18421,\t1.65394,\n",
    "# 0.28947,\t0.42953,\n",
    "# 0.39474,\t0.83337,\n",
    "# 0.5,\t1.18758]\n",
    "# x=np.array(daat[::2])\n",
    "# y=np.array(daat[1::2])\n",
    "# plt.plot(x,y, \"o\")\n",
    "# plt.plot(x,polyfit(x,beta_rat_polyfit(x, y, order=2)))"
   ]
  },
  {
   "cell_type": "code",
   "execution_count": null,
   "metadata": {},
   "outputs": [],
   "source": []
  },
  {
   "cell_type": "code",
   "execution_count": null,
   "metadata": {},
   "outputs": [],
   "source": []
  }
 ],
 "metadata": {
  "kernelspec": {
   "display_name": "SummerCode",
   "language": "python",
   "name": "summercode"
  },
  "language_info": {
   "codemirror_mode": {
    "name": "ipython",
    "version": 3
   },
   "file_extension": ".py",
   "mimetype": "text/x-python",
   "name": "python",
   "nbconvert_exporter": "python",
   "pygments_lexer": "ipython3",
   "version": "3.10.7"
  }
 },
 "nbformat": 4,
 "nbformat_minor": 2
}
