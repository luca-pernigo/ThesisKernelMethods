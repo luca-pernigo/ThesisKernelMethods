{
 "cells": [
  {
   "cell_type": "code",
   "execution_count": 1,
   "metadata": {},
   "outputs": [],
   "source": [
    "from src.kde import *\n",
    "import FMCA"
   ]
  },
  {
   "cell_type": "code",
   "execution_count": 2,
   "metadata": {},
   "outputs": [],
   "source": [
    "xtrain = np.load(\"data/data_21_23.npy\")\n",
    "# data 2023 test data\n",
    "xtest=xtrain[365:,:]\n",
    "# data 2021 train data\n",
    "xtrain=xtrain[0:366,:]\n",
    "# m rows\n",
    "m=xtrain.shape[0]\n",
    "# n columns\n",
    "n=xtrain.shape[1]\n",
    "\n",
    "# select hour of interest\n",
    "n=8\n",
    "\n",
    "\n",
    "xtrain_n=xtrain[1:, n].reshape(1,m-1)\n",
    "xtest_n=xtest[1:, n]\n",
    "# get mean and sigma of train data for selected hour n\n",
    "mu=np.mean(xtrain_n)\n",
    "sigma=np.std(xtrain_n)\n",
    "\n",
    "x_sample_spl_rpol=np.array([np.load(\"data/simulations/sim_spl_rpol.npy\")])\n",
    "x_sample_rpol=np.array([np.load(\"data/simulations/sim_rpol.npy\")])\n",
    "x_sample_bspl=np.array([np.load(\"data/simulations/sim_bspl_sub.npy\")])\n",
    "x_sample_spl_rpol=np.array([np.load(\"data/simulations/sim_spl_rpol.npy\")])\n",
    "x_sample_kernel_herding=np.array([np.load(\"data/simulations/sim_kernel_herding.npy\")]).reshape(1,-1)"
   ]
  },
  {
   "cell_type": "code",
   "execution_count": 36,
   "metadata": {},
   "outputs": [],
   "source": [
    "xtest_n=np.array([xtest_n])"
   ]
  },
  {
   "cell_type": "code",
   "execution_count": 53,
   "metadata": {},
   "outputs": [],
   "source": [
    "b=x_sample_spl_rpol\n",
    "b=np.array([b[0,0:100]])"
   ]
  },
  {
   "cell_type": "code",
   "execution_count": 54,
   "metadata": {},
   "outputs": [],
   "source": [
    "cov=FMCA.CovarianceKernel(\"Exponential\", 1)\n",
    "Kx=cov.eval(xtrain_n,xtrain_n)\n",
    "Ky=cov.eval(b,b)\n",
    "Kxy=cov.eval(xtrain_n,b)\n",
    "\n",
    "m=xtrain_n.size\n",
    "n=b.size"
   ]
  },
  {
   "cell_type": "code",
   "execution_count": 55,
   "metadata": {},
   "outputs": [
    {
     "data": {
      "text/plain": [
       "0.015667143907701547"
      ]
     },
     "execution_count": 55,
     "metadata": {},
     "output_type": "execute_result"
    }
   ],
   "source": [
    "A=(np.sum(Kx)-1*m)/(m*(m-1))\n",
    "B= (np.sum(Kxy))/(m*n)\n",
    "C=(np.sum(Ky)-1*m)/(n*(n-1))\n",
    "\n",
    "mmd2=A-2*B+C\n",
    "mmd2"
   ]
  },
  {
   "cell_type": "code",
   "execution_count": null,
   "metadata": {},
   "outputs": [],
   "source": []
  },
  {
   "cell_type": "code",
   "execution_count": null,
   "metadata": {},
   "outputs": [],
   "source": []
  }
 ],
 "metadata": {
  "kernelspec": {
   "display_name": "SummerCode",
   "language": "python",
   "name": "summercode"
  },
  "language_info": {
   "codemirror_mode": {
    "name": "ipython",
    "version": 3
   },
   "file_extension": ".py",
   "mimetype": "text/x-python",
   "name": "python",
   "nbconvert_exporter": "python",
   "pygments_lexer": "ipython3",
   "version": "3.10.7"
  }
 },
 "nbformat": 4,
 "nbformat_minor": 2
}
