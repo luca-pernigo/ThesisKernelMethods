{
 "cells": [
  {
   "cell_type": "code",
   "execution_count": 1,
   "metadata": {},
   "outputs": [],
   "source": [
    "import requests\n",
    "\n",
    "import pandas as pd\n",
    "import json\n",
    "from datetime import datetime\n",
    "\n",
    "country_code=\"ch\"\n",
    "year=\"2021\"\n",
    "\n",
    "r=requests.get(url=f\"https://api.energy-charts.info/power?country={country_code}&start={year}-01-01T00%3A00%2B01%3A00&end={year}-12-31T23%3A45%2B01%3A00\")\n",
    "\n",
    "aaa=pd.DataFrame(r.json())\n",
    "aaa['xAxisValues (Unix timestamp)']=pd.to_datetime(aaa['xAxisValues (Unix timestamp)'], unit=\"s\")\n",
    "# aaa.rename(columns={\"Day Ahead Auction (EUR/MWh)\": \"Day Ahead Auction (CH) (EUR/MWh)\"}, inplace=True)\n"
   ]
  },
  {
   "cell_type": "code",
   "execution_count": 2,
   "metadata": {},
   "outputs": [],
   "source": [
    "aaa.to_csv(f\"data/CH_{year}_Load_Price.csv\")"
   ]
  },
  {
   "cell_type": "code",
   "execution_count": null,
   "metadata": {},
   "outputs": [],
   "source": []
  }
 ],
 "metadata": {
  "kernelspec": {
   "display_name": "SummerCode",
   "language": "python",
   "name": "summercode"
  },
  "language_info": {
   "codemirror_mode": {
    "name": "ipython",
    "version": 3
   },
   "file_extension": ".py",
   "mimetype": "text/x-python",
   "name": "python",
   "nbconvert_exporter": "python",
   "pygments_lexer": "ipython3",
   "version": "3.10.7"
  }
 },
 "nbformat": 4,
 "nbformat_minor": 2
}
