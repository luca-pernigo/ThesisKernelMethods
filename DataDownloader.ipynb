{
 "cells": [
  {
   "cell_type": "code",
   "execution_count": 1,
   "metadata": {},
   "outputs": [],
   "source": [
    "import requests\n",
    "\n",
    "import pandas as pd\n",
    "import json\n",
    "\n",
    "country_code=\"ch\"\n",
    "\n",
    "r=requests.get(url=f\"https://api.energy-charts.info/power?country={country_code}&start=2023-01-01T00%3A00%2B01%3A00&end=2023-12-31T23%3A45%2B01%3A00\")\n",
    "\n",
    "aaa=pd.DataFrame(r.json())\n",
    "aaa.to_csv(\"data/CH_2023_Load_Price.csv\")"
   ]
  }
 ],
 "metadata": {
  "kernelspec": {
   "display_name": "SummerCode",
   "language": "python",
   "name": "summercode"
  },
  "language_info": {
   "codemirror_mode": {
    "name": "ipython",
    "version": 3
   },
   "file_extension": ".py",
   "mimetype": "text/x-python",
   "name": "python",
   "nbconvert_exporter": "python",
   "pygments_lexer": "ipython3",
   "version": "3.10.7"
  }
 },
 "nbformat": 4,
 "nbformat_minor": 2
}
