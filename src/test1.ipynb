{
 "cells": [
  {
   "cell_type": "code",
   "execution_count": 5,
   "metadata": {},
   "outputs": [],
   "source": [
    "import numpy as np\n",
    "from scipy.optimize import approx_fprime"
   ]
  },
  {
   "cell_type": "code",
   "execution_count": 12,
   "metadata": {},
   "outputs": [],
   "source": [
    "def rational(x, p):\n",
    "    return np.polyval(p[0:3], x) / np.polyval(p[3:] + [1.0], x)\n",
    "\n",
    "\n",
    "\n",
    "def wrapped_func(x):\n",
    "    return rational(x, p)\n"
   ]
  },
  {
   "cell_type": "code",
   "execution_count": 15,
   "metadata": {},
   "outputs": [
    {
     "data": {
      "text/plain": [
       "array([0.37500006])"
      ]
     },
     "execution_count": 15,
     "metadata": {},
     "output_type": "execute_result"
    }
   ],
   "source": [
    "x0=1\n",
    "p=np.ones(5)\n",
    "approx_fprime(x0, wrapped_func, epsilon=1e-6)"
   ]
  }
 ],
 "metadata": {
  "kernelspec": {
   "display_name": "SummerCode",
   "language": "python",
   "name": "summercode"
  },
  "language_info": {
   "codemirror_mode": {
    "name": "ipython",
    "version": 3
   },
   "file_extension": ".py",
   "mimetype": "text/x-python",
   "name": "python",
   "nbconvert_exporter": "python",
   "pygments_lexer": "ipython3",
   "version": "3.10.7"
  }
 },
 "nbformat": 4,
 "nbformat_minor": 2
}
